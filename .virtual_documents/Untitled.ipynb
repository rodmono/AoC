import re
from collections import defaultdict

ex = """
....#.....
....^....#
..........
..#.......
.......#..
..........
.#........
........#.
#.........
......#...
"""

ex = [i for i in ex.split('\n') if i]

guard_direction = "^"

directions = [(-1, 0),
              (0, 1),
              (1, 0),
              (0, -1)]

obstructions = "#"


data = ex
row, col = len(data), len(data[0])
matrix = defaultdict(lambda: defaultdict(str))


for i in range(row):
    for j in range(col):
        matrix[i][j] = data[i][j]
        if matrix[i][j] == guard_direction:
            x, y = i, j
# Posicion actual
(x,y)


mov = set()
curr_dir = 0
while matrix[x][y] != '':
    if matrix[x][y] == obstructions:
        x, y = x - directions[curr_dir][0], y - directions[curr_dir][1]
        curr_dir = (curr_dir + 1) % 4
        continue
        
    mov.add((x, y))
    x, y = x + directions[curr_dir][0], y + directions[curr_dir][1]


len(mov)



